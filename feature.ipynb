{
 "cells": [
  {
   "cell_type": "code",
   "execution_count": 1,
   "metadata": {},
   "outputs": [],
   "source": [
    "import cv2"
   ]
  },
  {
   "cell_type": "code",
   "execution_count": 2,
   "metadata": {},
   "outputs": [],
   "source": [
    "# image1 = cv2.imread('sample1.jpg', cv2.IMREAD_GRAYSCALE)\n",
    "# image2 = cv2.imread('sample2.jpg', cv2.IMREAD_GRAYSCALE)\n",
    "\n",
    "def computeMatches(image1, image2):\n",
    "    minHessian = 400\n",
    "    ratio_thresh = 0.7\n",
    "\n",
    "    surf = cv2.xfeatures2d_SURF.create(hessianThreshold=minHessian)\n",
    "    kp1, des1 = surf.detectAndCompute(image1, None)\n",
    "    kp2, des2 = surf.detectAndCompute(image2, None)\n",
    "\n",
    "    fl_matcher = cv2.DescriptorMatcher_create(cv2.DescriptorMatcher_FLANNBASED)\n",
    "    knn_matches = fl_matcher.knnMatch(des1, des2, 2)\n",
    "\n",
    "    matches = []\n",
    "    for m,n in knn_matches:\n",
    "        if m.distance < ratio_thresh * n.distance:\n",
    "            matches.append(m)"
   ]
  }
 ],
 "metadata": {
  "kernelspec": {
   "display_name": "Python 3",
   "language": "python",
   "name": "python3"
  },
  "language_info": {
   "codemirror_mode": {
    "name": "ipython",
    "version": 3
   },
   "file_extension": ".py",
   "mimetype": "text/x-python",
   "name": "python",
   "nbconvert_exporter": "python",
   "pygments_lexer": "ipython3",
   "version": "3.7.3"
  }
 },
 "nbformat": 4,
 "nbformat_minor": 2
}
