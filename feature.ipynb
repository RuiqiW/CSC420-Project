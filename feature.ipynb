{
 "cells": [
  {
   "cell_type": "code",
   "execution_count": 1,
   "metadata": {},
   "outputs": [],
   "source": [
    "import cv2"
   ]
  },
  {
   "cell_type": "code",
   "execution_count": null,
   "metadata": {},
   "outputs": [],
   "source": [
    "# image1 = cv2.imread('sample1.jpg', cv2.IMREAD_GRAYSCALE)\n",
    "# image2 = cv2.imread('sample2.jpg', cv2.IMREAD_GRAYSCALE)"
   ]
  },
  {
   "cell_type": "code",
   "execution_count": 2,
   "metadata": {},
   "outputs": [],
   "source": [
    "# https://www.researchgate.net/publication/314285930_Comparison_of_Feature_Detection_and_Matching_Approaches_SIFT_and_SURF\n",
    "# https://www.cs.ubc.ca/research/flann/uploads/FLANN/flann_pami2014.pdf\n",
    "\n",
    "def computeMatches(image1, image2):\n",
    "    minHessian = 400\n",
    "    ratio_thresh = 0.7\n",
    "\n",
    "    surf = cv2.xfeatures2d_SURF.create(hessianThreshold=minHessian)\n",
    "    kp1, des1 = surf.detectAndCompute(image1, None)\n",
    "    kp2, des2 = surf.detectAndCompute(image2, None)\n",
    "\n",
    "    fl_matcher = cv2.DescriptorMatcher_create(cv2.DescriptorMatcher_FLANNBASED)\n",
    "    knn_matches = fl_matcher.knnMatch(des1, des2, 2)\n",
    "\n",
    "    matches = []\n",
    "    for m,n in knn_matches:\n",
    "        if m.distance < ratio_thresh * n.distance:\n",
    "            matches.append(m)\n",
    "    \n",
    "    return kp1, des1, kp2, des2, matches"
   ]
  },
  {
   "cell_type": "code",
   "execution_count": null,
   "metadata": {},
   "outputs": [],
   "source": [
    "num = len(matches)\n",
    "loc1 = np.array([ kp1[matches[i].queryIdx].pt for i in range(num)])\n",
    "loc2 = np.array([ kp2[matches[i].trainIdx].pt for i in range(num)])"
   ]
  },
  {
   "cell_type": "code",
   "execution_count": null,
   "metadata": {},
   "outputs": [],
   "source": [
    "# https://en.wikipedia.org/wiki/Random_sample_consensus\n",
    "\n",
    "def ransac(loc1, loc2, num_samples, dist_threshold,\n",
    "           max_trials=1000, threshInNum=np.inf, threshLoss=0, threshRatio=0.9):\n",
    "\n",
    "    best_mat = None\n",
    "    best_inliers = None\n",
    "    bestInNum = 0\n",
    "    bestResLoss = np.inf\n",
    "    \n",
    "    # take 3 points\n",
    "    indices = np.random.choice(loc1.shape[0], num_samples, replace=False)\n",
    "\n",
    "    \n",
    "    for num_trials in range(max_trials):\n",
    "        \n",
    "        # calculate affine transformation\n",
    "        src = np.array([loc1[idx] for idx in indices]).astype(np.float32)\n",
    "        dst = np.array([loc2[idx] for idx in indices]).astype(np.float32)\n",
    "        try:\n",
    "            warp_mat = cv2.getAffineTransform(src, dst)\n",
    "        except:\n",
    "            continue\n",
    "        \n",
    "        src3d = np.append(loc1, np.ones((loc1.shape[0], 1)), axis=1)\n",
    "        warp_dst3d = warp_mat @ src3d.T\n",
    "        warp_dst = warp_dst3d.T\n",
    "        \n",
    "        # compare dst points and targets\n",
    "        distance = np.linalg.norm(warp_dst - loc2, axis=1)\n",
    "        inliers = distance < dist_threshold\n",
    "        resLoss = np.sum(distance ** 2)\n",
    "        inNum = np.count_nonzero(inliers)\n",
    "        \n",
    "        # update transformation matrix\n",
    "        if (inNum > bestInNum or (inNum == bestInNum and resLoss < bestResLoss)):\n",
    "            best_mat = warp_mat\n",
    "            bestInNum = inNum\n",
    "            bestResLoss = resLoss\n",
    "            best_inliers = inliers\n",
    "\n",
    "        if (bestInNum > threshInNum or bestResLoss < threshLoss):\n",
    "            break\n",
    "        \n",
    "        # resample\n",
    "        indices = np.random.choice(loc1.shape[0], num_samples, replace=False)\n",
    "\n",
    "    return best_mat, bestInNum/len(loc1)\n"
   ]
  },
  {
   "cell_type": "code",
   "execution_count": null,
   "metadata": {},
   "outputs": [],
   "source": [
    "best_mat, _ = ransac(loc1, loc2, num_samples=3, dist_threshold=50)\n",
    "transformed = cv2.warpAffine(image1,best_mat,(image1.shape[1], image1.shape[0]))\n",
    "plt.imshow(transformed, cmap = \"gray\")"
   ]
  }
 ],
 "metadata": {
  "kernelspec": {
   "display_name": "Python 3",
   "language": "python",
   "name": "python3"
  },
  "language_info": {
   "codemirror_mode": {
    "name": "ipython",
    "version": 3
   },
   "file_extension": ".py",
   "mimetype": "text/x-python",
   "name": "python",
   "nbconvert_exporter": "python",
   "pygments_lexer": "ipython3",
   "version": "3.7.3"
  }
 },
 "nbformat": 4,
 "nbformat_minor": 2
}
