{
 "cells": [
  {
   "cell_type": "code",
   "execution_count": 1,
   "metadata": {},
   "outputs": [],
   "source": [
    "import pandas as pd\n",
    "\n",
    "train = pd.read_csv(\"train.csv\")\n",
    "landmark = train.groupby(\"landmark_id\").count()"
   ]
  },
  {
   "cell_type": "code",
   "execution_count": 2,
   "metadata": {},
   "outputs": [],
   "source": [
    "most_famous = landmark.sort_values(\"id\", ascending=False).iloc[: 1000]\n",
    "most_famous = most_famous.reset_index()['landmark_id']\n",
    "selected = pd.DataFrame()\n",
    "for lid in most_famous:\n",
    "    find = train.loc[train.landmark_id == lid]\n",
    "    selected = selected.append(find.sample(min(400, len(find))))\n",
    "    \n",
    "selected = selected[['id', 'landmark_id']]\n",
    "land_map = selected.groupby(\"landmark_id\").first().reset_index()[['landmark_id']]\n",
    "land_map['class_id'] = land_map.index\n",
    "selected = selected.merge(land_map)\n",
    "train = selected.sample(frac=0.8)\n",
    "valid = selected.drop(train.index)"
   ]
  },
  {
   "cell_type": "code",
   "execution_count": null,
   "metadata": {},
   "outputs": [],
   "source": [
    "train"
   ]
  },
  {
   "cell_type": "code",
   "execution_count": null,
   "metadata": {},
   "outputs": [],
   "source": [
    "valid"
   ]
  },
  {
   "cell_type": "code",
   "execution_count": 3,
   "metadata": {},
   "outputs": [],
   "source": [
    "valid.to_csv(\"valid_2.csv\", index=False)"
   ]
  },
  {
   "cell_type": "code",
   "execution_count": 4,
   "metadata": {},
   "outputs": [],
   "source": [
    "train.to_csv(\"train_2.csv\", index=False)"
   ]
  }
 ],
 "metadata": {
  "hide_input": false,
  "kernelspec": {
   "display_name": "Python 3",
   "language": "python",
   "name": "python3"
  },
  "language_info": {
   "codemirror_mode": {
    "name": "ipython",
    "version": 3
   },
   "file_extension": ".py",
   "mimetype": "text/x-python",
   "name": "python",
   "nbconvert_exporter": "python",
   "pygments_lexer": "ipython3",
   "version": "3.7.4"
  }
 },
 "nbformat": 4,
 "nbformat_minor": 2
}
