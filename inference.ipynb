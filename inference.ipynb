{
 "cells": [
  {
   "cell_type": "code",
   "execution_count": 1,
   "metadata": {},
   "outputs": [],
   "source": [
    "import pandas as pd\n",
    "import torchvision.transforms as tt\n",
    "from torch.utils.data import Dataset\n",
    "import os\n",
    "import numpy as np\n",
    "import torchvision\n",
    "from PIL import Image\n",
    "\n",
    "import torch\n",
    "from torchvision import models\n",
    "from torch.utils.data import DataLoader"
   ]
  },
  {
   "cell_type": "code",
   "execution_count": 2,
   "metadata": {},
   "outputs": [],
   "source": [
    "class GDataset(Dataset):\n",
    "    def __init__(self, df, directory):\n",
    "\n",
    "        self.df = df\n",
    "        self.dir = directory\n",
    "        self.transform = tt.Compose([\n",
    "            tt.Resize((160, 160)),\n",
    "            tt.RandomCrop((128, 128)),\n",
    "            tt.ToTensor(),\n",
    "            tt.Normalize((0.5, 0.5, 0.5), (0.5, 0.5, 0.5))\n",
    "        ])\n",
    "    \n",
    "    \n",
    "    def __len__(self):\n",
    "        return len(self.df)\n",
    "\n",
    "    \n",
    "    def __getitem__(self, index):\n",
    "        \n",
    "        id_ = self.df.iloc[index]['id']\n",
    "        img_name = \"/\".join([self.dir, id_[:3], id_+\".jpg\"])\n",
    "        image = Image.open(img_name)\n",
    "        image = self.transform(image)\n",
    "        return image, torch.tensor(int(self.df.iloc[index]['class_id'])).long()\n",
    "        "
   ]
  },
  {
   "cell_type": "code",
   "execution_count": 3,
   "metadata": {},
   "outputs": [
    {
     "name": "stdout",
     "output_type": "stream",
     "text": [
      "5.868094732003565 0.25145163163395656 0.42901521309952384\n"
     ]
    }
   ],
   "source": [
    "valid = pd.read_csv(\"./valid_2.csv\")\n",
    "valid_data = GDataset(valid, \"train\")\n",
    "\n",
    "batch_size = 100\n",
    "valid_loader = DataLoader(valid_data, batch_size=batch_size)\n",
    "\n",
    "# model = models.vgg16(pretrained=True)\n",
    "model = models.vgg16(pretrained=False)\n",
    "model.avgpool = torch.nn.AdaptiveAvgPool2d(output_size=(3, 3))\n",
    "model.classifier = torch.nn.Sequential(torch.nn.Linear(4608, 4096),\n",
    "                                       torch.nn.ReLU(),\n",
    "                                       torch.nn.Linear(4096, 4096),\n",
    "                                       torch.nn.ReLU(),\n",
    "                                       torch.nn.Linear(4096, valid['class_id'].max() + 1))\n",
    "model.load_state_dict(torch.load(\"model27.pth\"))\n",
    "model.cuda()\n",
    "criterion = torch.nn.CrossEntropyLoss()\n",
    "\n",
    "softmax = torch.nn.Softmax(dim=1)\n",
    "\n",
    "loss_sum = 0\n",
    "accuracy = 0\n",
    "top_5_accuracy = 0\n",
    "counter = 0\n",
    "for x, t in valid_loader:\n",
    "    counter += 1\n",
    "    print(round(counter / len(valid_loader), 2), end=\"\\r\")\n",
    "    x, t = x.cuda(), t.cuda()\n",
    "    z = model(x)\n",
    "    loss = criterion(z, t)\n",
    "    loss_sum += loss.item()\n",
    "\n",
    "    y = softmax(z)\n",
    "    top_p, top_class = y.topk(5, dim=1)\n",
    "    accuracy += (top_class[:, 0] == t).sum().item()\n",
    "    top_5_accuracy += (top_class == t.unsqueeze(1).repeat(1, 5)).max(axis=1).values.sum().item()\n",
    "\n",
    "print(loss_sum / len(valid_loader), \n",
    "      accuracy / len(valid_data), \n",
    "      top_5_accuracy / len(valid_data))\n",
    "   "
   ]
  },
  {
   "cell_type": "code",
   "execution_count": null,
   "metadata": {},
   "outputs": [],
   "source": []
  }
 ],
 "metadata": {
  "hide_input": false,
  "kernelspec": {
   "display_name": "Python 3",
   "language": "python",
   "name": "python3"
  },
  "language_info": {
   "codemirror_mode": {
    "name": "ipython",
    "version": 3
   },
   "file_extension": ".py",
   "mimetype": "text/x-python",
   "name": "python",
   "nbconvert_exporter": "python",
   "pygments_lexer": "ipython3",
   "version": "3.7.4"
  }
 },
 "nbformat": 4,
 "nbformat_minor": 2
}
