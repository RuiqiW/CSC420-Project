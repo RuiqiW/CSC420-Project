{
 "cells": [
  {
   "cell_type": "code",
   "execution_count": 1,
   "metadata": {},
   "outputs": [],
   "source": [
    "import numpy as np\n",
    "import torch\n",
    "from torch import nn, optim\n",
    "import torch.nn.functional as F\n",
    "import torch.utils.data as data\n",
    "from torchvision import transforms, datasets\n",
    "import torchvision.transforms.functional as TF\n",
    "\n",
    "import os\n",
    "from PIL import Image\n",
    "from pathlib import Path\n",
    "import numpy as np\n",
    "import matplotlib.pyplot as plt"
   ]
  },
  {
   "cell_type": "code",
   "execution_count": 2,
   "metadata": {},
   "outputs": [],
   "source": [
    "image_paths = '../A3/cat_data/Train/input'\n",
    "idx = 2\n",
    "image = Image.open(os.path.join(image_paths, \"cat.{}.jpg\".replace('{}', str(idx))))"
   ]
  },
  {
   "cell_type": "markdown",
   "metadata": {},
   "source": [
    "#### Rotation"
   ]
  },
  {
   "cell_type": "code",
   "execution_count": 3,
   "metadata": {},
   "outputs": [],
   "source": [
    "# random rotate\n",
    "def rotate90(image):\n",
    "    angle = 90 * np.random.randint(-1, 2, (1,))\n",
    "    rotated = TF.rotate(image, angle)\n",
    "    return rotated"
   ]
  },
  {
   "cell_type": "code",
   "execution_count": null,
   "metadata": {},
   "outputs": [],
   "source": [
    "rotated.save('rotated.jpg')"
   ]
  },
  {
   "cell_type": "markdown",
   "metadata": {},
   "source": [
    "#### Perspective"
   ]
  },
  {
   "cell_type": "code",
   "execution_count": 5,
   "metadata": {},
   "outputs": [
    {
     "name": "stderr",
     "output_type": "stream",
     "text": [
      "/home/ruiqi/anaconda3/lib/python3.7/site-packages/torchvision/transforms/functional.py:440: UserWarning: torch.gels is deprecated in favour of torch.lstsq and will be removed in the next release. Please use torch.lstsq instead.\n",
      "  res = torch.gels(B, A)[0]\n"
     ]
    }
   ],
   "source": [
    "def perpective(image):\n",
    "    scale = 0.1\n",
    "    width, height = image.size\n",
    "    dh, dw = int(scale*height), int(scale*width)\n",
    "    corner0 = (np.random.randint(0, dh), np.random.randint(0, dh))\n",
    "    corner1 = (np.random.randint(width - dw - 1, width - 1), np.random.randint(0, dh))\n",
    "    corner2 = (np.random.randint(width -dw -1, width - 1), np.random.randint(height-dh-1, height-1))\n",
    "    corner3 = (np.random.randint(0, dw), np.random.randint(height - dh -1, height-1))\n",
    "    startpoints = np.array([(0, 0), (width - 1, 0), (width - 1, height - 1), (0, height - 1)], dtype=np.float32)\n",
    "    endpoints = np.array([corner0, corner1, corner2, corner3], dtype=np.float32)\n",
    "\n",
    "    perspective = TF.perspective(image, startpoints, endpoints)\n",
    "    return perspective"
   ]
  },
  {
   "cell_type": "code",
   "execution_count": null,
   "metadata": {},
   "outputs": [],
   "source": [
    "perspective.save('perspective.jpg')"
   ]
  },
  {
   "cell_type": "markdown",
   "metadata": {},
   "source": [
    "#### Crop and Zoom"
   ]
  },
  {
   "cell_type": "code",
   "execution_count": 26,
   "metadata": {},
   "outputs": [],
   "source": [
    "affine = transforms.RandomAffine(0, translate=(0.3, 0.3), scale=(0.8, 1.5))"
   ]
  },
  {
   "cell_type": "code",
   "execution_count": 27,
   "metadata": {},
   "outputs": [],
   "source": [
    "temp = affine(image)"
   ]
  },
  {
   "cell_type": "markdown",
   "metadata": {},
   "source": [
    "#### Color"
   ]
  },
  {
   "cell_type": "code",
   "execution_count": 20,
   "metadata": {},
   "outputs": [],
   "source": [
    "brightness = np.random.uniform(0.5, 1.5)\n",
    "jitter = brightness * np.array(image).astype(np.float32)\n",
    "jitter = np.clip(jitter, 0, 255).astype(np.uint8)\n",
    "jittered = Image.fromarray(jitter)\n",
    "jittered.save('jitter.jpg')"
   ]
  },
  {
   "cell_type": "markdown",
   "metadata": {},
   "source": [
    "#### Weather"
   ]
  }
 ],
 "metadata": {
  "kernelspec": {
   "display_name": "Python 3",
   "language": "python",
   "name": "python3"
  },
  "language_info": {
   "codemirror_mode": {
    "name": "ipython",
    "version": 3
   },
   "file_extension": ".py",
   "mimetype": "text/x-python",
   "name": "python",
   "nbconvert_exporter": "python",
   "pygments_lexer": "ipython3",
   "version": "3.7.3"
  }
 },
 "nbformat": 4,
 "nbformat_minor": 2
}
